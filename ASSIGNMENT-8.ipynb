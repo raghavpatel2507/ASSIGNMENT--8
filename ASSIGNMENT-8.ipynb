{
 "cells": [
  {
   "cell_type": "code",
   "execution_count": 14,
   "id": "d377369b",
   "metadata": {},
   "outputs": [
    {
     "name": "stdout",
     "output_type": "stream",
     "text": [
      "Input your password::RAgh1234$#@12334@\n",
      "Valid Password\n"
     ]
    }
   ],
   "source": [
    "#Q-1\n",
    "import re\n",
    "p= input(\"Input your password::\")\n",
    "x = True\n",
    "while x:  \n",
    "    if (len(p)<=10):\n",
    "        break\n",
    "    elif not re.search(\"[a-z]\",p):\n",
    "        break\n",
    "    elif not re.search(\"[0-9]\",p):\n",
    "        break\n",
    "    elif not re.search(\"[A-Z]\",p):\n",
    "        break\n",
    "    elif not re.search(\"[$#@]\",p):\n",
    "        break\n",
    "    elif re.search(\"\\s\",p):\n",
    "        break\n",
    "    else:\n",
    "        print(\"Valid Password\")\n",
    "        x=False\n",
    "        break\n",
    "\n",
    "if x:\n",
    "    print(\"Not a Valid Password\")"
   ]
  },
  {
   "cell_type": "code",
   "execution_count": 24,
   "id": "8d8a2e90",
   "metadata": {},
   "outputs": [],
   "source": [
    "#Q-2\n",
    "#Check if the string starts with a particular letter start from y\n",
    "check=lambda s:'true' if s[0]=='y' else 'false'"
   ]
  },
  {
   "cell_type": "code",
   "execution_count": 25,
   "id": "baace2c2",
   "metadata": {},
   "outputs": [
    {
     "data": {
      "text/plain": [
       "'false'"
      ]
     },
     "execution_count": 25,
     "metadata": {},
     "output_type": "execute_result"
    }
   ],
   "source": [
    "check('raghav')"
   ]
  },
  {
   "cell_type": "code",
   "execution_count": 26,
   "id": "29671d0e",
   "metadata": {},
   "outputs": [
    {
     "data": {
      "text/plain": [
       "'true'"
      ]
     },
     "execution_count": 26,
     "metadata": {},
     "output_type": "execute_result"
    }
   ],
   "source": [
    "check('yash')"
   ]
  },
  {
   "cell_type": "code",
   "execution_count": 27,
   "id": "51f7a617",
   "metadata": {},
   "outputs": [],
   "source": [
    "#Check if the string is numeric\n",
    "check1=lambda s: 'true' if type(s)==int else 'false'"
   ]
  },
  {
   "cell_type": "code",
   "execution_count": 28,
   "id": "0d9d9e22",
   "metadata": {},
   "outputs": [
    {
     "data": {
      "text/plain": [
       "'true'"
      ]
     },
     "execution_count": 28,
     "metadata": {},
     "output_type": "execute_result"
    }
   ],
   "source": [
    "check1(123)"
   ]
  },
  {
   "cell_type": "code",
   "execution_count": 29,
   "id": "2f9999d4",
   "metadata": {},
   "outputs": [
    {
     "data": {
      "text/plain": [
       "'false'"
      ]
     },
     "execution_count": 29,
     "metadata": {},
     "output_type": "execute_result"
    }
   ],
   "source": [
    "check1('raghav')"
   ]
  },
  {
   "cell_type": "code",
   "execution_count": 30,
   "id": "1d861404",
   "metadata": {},
   "outputs": [
    {
     "name": "stdout",
     "output_type": "stream",
     "text": [
      "[('orange', 80), ('mango', 99), ('grapes', 1000)]\n"
     ]
    }
   ],
   "source": [
    "# Sort a list of tuples having fruit names and their quantity.\n",
    "l1= [(\"mango\",99),(\"orange\",80), (\"grapes\", 1000)]\n",
    "l1.sort(key=lambda x:x[1])\n",
    "print(l1)"
   ]
  },
  {
   "cell_type": "code",
   "execution_count": 41,
   "id": "8355451f",
   "metadata": {},
   "outputs": [
    {
     "data": {
      "text/plain": [
       "[1, 4, 9, 16, 25, 36, 49, 64, 81, 100]"
      ]
     },
     "execution_count": 41,
     "metadata": {},
     "output_type": "execute_result"
    }
   ],
   "source": [
    "#  Find the squares of numbers from 1 to 10Y\n",
    "def sq(x):\n",
    "    return x**2\n",
    "l1=[1,2,3,4,5,6,7,8,9,10]\n",
    "list(map(sq,l1))"
   ]
  },
  {
   "cell_type": "code",
   "execution_count": 43,
   "id": "011e4f26",
   "metadata": {},
   "outputs": [
    {
     "name": "stdout",
     "output_type": "stream",
     "text": [
      "enter a number8\n",
      "2.0\n"
     ]
    }
   ],
   "source": [
    "# Find the cube root of numbers from 1 to 10\n",
    "num=int(input(\"enter a number\"))\n",
    "cube_root=num**(1/3)\n",
    "print(cube_root)"
   ]
  },
  {
   "cell_type": "code",
   "execution_count": 45,
   "id": "ab3b6b29",
   "metadata": {},
   "outputs": [],
   "source": [
    "#Check if a given number is even\n",
    "num=lambda x: 'even'if x%2==0 else 'odd'"
   ]
  },
  {
   "cell_type": "code",
   "execution_count": 47,
   "id": "dee51f62",
   "metadata": {},
   "outputs": [
    {
     "data": {
      "text/plain": [
       "'odd'"
      ]
     },
     "execution_count": 47,
     "metadata": {},
     "output_type": "execute_result"
    }
   ],
   "source": [
    "num(1)"
   ]
  },
  {
   "cell_type": "code",
   "execution_count": 46,
   "id": "39da368f",
   "metadata": {},
   "outputs": [
    {
     "data": {
      "text/plain": [
       "'even'"
      ]
     },
     "execution_count": 46,
     "metadata": {},
     "output_type": "execute_result"
    }
   ],
   "source": [
    "num(10)"
   ]
  },
  {
   "cell_type": "code",
   "execution_count": 50,
   "id": "f516a53e",
   "metadata": {},
   "outputs": [
    {
     "data": {
      "text/plain": [
       "[1, 3, 5, 7, 9]"
      ]
     },
     "execution_count": 50,
     "metadata": {},
     "output_type": "execute_result"
    }
   ],
   "source": [
    "#Filter odd numbers from the given list.\n",
    "l1=[1,2,3,4,5,6,7,8,9,10]\n",
    "list(filter(lambda x:x%2!=0,l1))"
   ]
  },
  {
   "cell_type": "code",
   "execution_count": 67,
   "id": "c1dcd522",
   "metadata": {},
   "outputs": [
    {
     "name": "stdout",
     "output_type": "stream",
     "text": [
      "[1, 2, 3, 4, 5, 6, 0]\n",
      "[-1, -2, -3, -4, -5]\n"
     ]
    }
   ],
   "source": [
    "#  Sort a list of integers into positive and negative integers lists.\n",
    "l2=[1,2,3,4,5,6,-1,-2,-3,-4,-5,0]\n",
    "positive_list=[]\n",
    "negetive_list=[]\n",
    "for i in l2:\n",
    "    if i<0:\n",
    "        negetive_list.append(i)\n",
    "    else:\n",
    "        positive_list.append(i)\n",
    "        \n",
    "print(positive_list)\n",
    "print(negetive_list)"
   ]
  },
  {
   "cell_type": "code",
   "execution_count": null,
   "id": "052f5d7b",
   "metadata": {},
   "outputs": [],
   "source": []
  },
  {
   "cell_type": "code",
   "execution_count": null,
   "id": "900f71b7",
   "metadata": {},
   "outputs": [],
   "source": []
  }
 ],
 "metadata": {
  "kernelspec": {
   "display_name": "Python 3 (ipykernel)",
   "language": "python",
   "name": "python3"
  },
  "language_info": {
   "codemirror_mode": {
    "name": "ipython",
    "version": 3
   },
   "file_extension": ".py",
   "mimetype": "text/x-python",
   "name": "python",
   "nbconvert_exporter": "python",
   "pygments_lexer": "ipython3",
   "version": "3.9.13"
  }
 },
 "nbformat": 4,
 "nbformat_minor": 5
}
